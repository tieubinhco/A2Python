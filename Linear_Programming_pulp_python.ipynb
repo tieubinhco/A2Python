{
  "nbformat": 4,
  "nbformat_minor": 0,
  "metadata": {
    "colab": {
      "name": "Linear Programming pulp python.ipynb",
      "provenance": [],
      "collapsed_sections": [],
      "authorship_tag": "ABX9TyP78m5PcBTrYTnUADuN3Liw",
      "include_colab_link": true
    },
    "kernelspec": {
      "name": "python3",
      "display_name": "Python 3"
    },
    "language_info": {
      "name": "python"
    }
  },
  "cells": [
    {
      "cell_type": "markdown",
      "metadata": {
        "id": "view-in-github",
        "colab_type": "text"
      },
      "source": [
        "<a href=\"https://colab.research.google.com/github/tieubinhco/A2Python/blob/main/Linear_Programming_pulp_python.ipynb\" target=\"_parent\"><img src=\"https://colab.research.google.com/assets/colab-badge.svg\" alt=\"Open In Colab\"/></a>"
      ]
    },
    {
      "cell_type": "code",
      "metadata": {
        "colab": {
          "base_uri": "https://localhost:8080/"
        },
        "id": "ijmehyk6J8Tf",
        "outputId": "89f43047-9c1f-4ea0-d814-ac5241d14abe"
      },
      "source": [
        "!pip install pulp"
      ],
      "execution_count": null,
      "outputs": [
        {
          "output_type": "stream",
          "text": [
            "Collecting pulp\n",
            "\u001b[?25l  Downloading https://files.pythonhosted.org/packages/14/c4/0eec14a0123209c261de6ff154ef3be5cad3fd557c084f468356662e0585/PuLP-2.4-py3-none-any.whl (40.6MB)\n",
            "\u001b[K     |████████████████████████████████| 40.6MB 107kB/s \n",
            "\u001b[?25hCollecting amply>=0.1.2\n",
            "  Downloading https://files.pythonhosted.org/packages/f3/c5/dfa09dd2595a2ab2ab4e6fa7bebef9565812722e1980d04b0edce5032066/amply-0.1.4-py3-none-any.whl\n",
            "Requirement already satisfied: docutils>=0.3 in /usr/local/lib/python3.7/dist-packages (from amply>=0.1.2->pulp) (0.17)\n",
            "Requirement already satisfied: pyparsing in /usr/local/lib/python3.7/dist-packages (from amply>=0.1.2->pulp) (2.4.7)\n",
            "Installing collected packages: amply, pulp\n",
            "Successfully installed amply-0.1.4 pulp-2.4\n"
          ],
          "name": "stdout"
        }
      ]
    },
    {
      "cell_type": "code",
      "metadata": {
        "colab": {
          "base_uri": "https://localhost:8080/"
        },
        "id": "juOBg7ZrJsSc",
        "outputId": "6d3470f1-4812-4cf9-9ae3-f667d3206375"
      },
      "source": [
        "from pulp import LpMaximize, LpMinimize, LpProblem, LpStatus, lpSum, LpVariable, GLPK\n",
        "\n",
        "# Create the model\n",
        "model = LpProblem(name=\"resource-allocation\", sense=LpMaximize)\n",
        "\n",
        "# Define the decision variables\n",
        "x = {i: LpVariable(name=f\"x{i}\", lowBound=0) for i in range(1, 5)}\n",
        "y = {i: LpVariable(name=f\"y{i}\", cat=\"Binary\") for i in (1, 3)}\n",
        "\n",
        "# expression = 2 * x + 4 * y\n",
        "# type(expression)\n",
        "# constraint = 2 * x + 4 * y >= 8\n",
        "# type(constraint)\n",
        "\n",
        "# Add the constraints to the model\n",
        "model += (lpSum(x.values()) <= 50, \"manpower\")\n",
        "model += (3 * x[1] + 2 * x[2] + x[3] <= 100, \"material_a\")\n",
        "model += (x[2] + 2 * x[3] + 3 * x[4] <= 90, \"material_b\")\n",
        "\n",
        "M = 100\n",
        "model += (x[1] <= y[1] * M, \"x1_constraint\")\n",
        "model += (x[3] <= y[3] * M, \"x3_constraint\")\n",
        "model += (y[1] + y[3] <= 1, \"y_constraint\")\n",
        "\n",
        "# Add the objective function to the model\n",
        "obj_func= 20 * x[1] + 12 * x[2] + 40 * x[3] + 25 * x[4]\n",
        "model += obj_func\n",
        "\n",
        "# Solve the problem\n",
        "status = model.solve()\n",
        "\n",
        "print(f\"status: {model.status}, {LpStatus[model.status]}\")\n",
        "print(f\"objective: {model.objective.value()}\")\n",
        "for var in model.variables():\n",
        "    print(f\"{var.name}: {var.value()}\")\n",
        "\n",
        "for name, constraint in model.constraints.items():\n",
        "    print(f\"{name}: {constraint.value()}\")\n"
      ],
      "execution_count": null,
      "outputs": [
        {
          "output_type": "stream",
          "text": [
            "status: 1, Optimal\n",
            "objective: 1800.0\n",
            "x1: 0.0\n",
            "x2: 0.0\n",
            "x3: 45.0\n",
            "x4: 0.0\n",
            "y1: 0.0\n",
            "y3: 1.0\n",
            "manpower: -5.0\n",
            "material_a: -55.0\n",
            "material_b: 0.0\n",
            "x1_constraint: 0.0\n",
            "x3_constraint: -55.0\n",
            "y_constraint: 0.0\n"
          ],
          "name": "stdout"
        }
      ]
    },
    {
      "cell_type": "code",
      "metadata": {
        "id": "EhISe1r6JtDd"
      },
      "source": [
        ""
      ],
      "execution_count": null,
      "outputs": []
    }
  ]
}